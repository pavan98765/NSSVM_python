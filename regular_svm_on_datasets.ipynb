{
  "cells": [
    {
      "cell_type": "code",
      "source": [
        "from google.colab import drive\n",
        "drive.mount('/content/drive')"
      ],
      "metadata": {
        "colab": {
          "base_uri": "https://localhost:8080/"
        },
        "id": "K1zVE5yz7hx8",
        "outputId": "8c92aabe-ce8d-4a34-95c1-78092141d0d9"
      },
      "id": "K1zVE5yz7hx8",
      "execution_count": 1,
      "outputs": [
        {
          "output_type": "stream",
          "name": "stdout",
          "text": [
            "Drive already mounted at /content/drive; to attempt to forcibly remount, call drive.mount(\"/content/drive\", force_remount=True).\n"
          ]
        }
      ]
    },
    {
      "cell_type": "code",
      "source": [
        "import time"
      ],
      "metadata": {
        "id": "1vrSoSYWki6C"
      },
      "id": "1vrSoSYWki6C",
      "execution_count": 2,
      "outputs": []
    },
    {
      "cell_type": "markdown",
      "id": "b97eb0ca",
      "metadata": {
        "id": "b97eb0ca"
      },
      "source": [
        "## libsvm"
      ]
    },
    {
      "cell_type": "code",
      "execution_count": null,
      "id": "e89a76be",
      "metadata": {
        "colab": {
          "base_uri": "https://localhost:8080/"
        },
        "id": "e89a76be",
        "outputId": "00f8c0b5-43b6-418f-d136-d973c9ff0787"
      },
      "outputs": [
        {
          "output_type": "stream",
          "name": "stdout",
          "text": [
            "Training labels distribution: [39473     0  8172]\n",
            "Testing labels distribution: [9823    0 2089]\n"
          ]
        }
      ],
      "source": [
        "import numpy as np\n",
        "from sklearn.preprocessing import StandardScaler\n",
        "from sklearn.model_selection import train_test_split\n",
        "from sklearn.svm import SVC\n",
        "from sklearn.metrics import accuracy_score\n",
        "from scipy.io import loadmat\n",
        "import matplotlib.pyplot as plt\n",
        "\n",
        "# Load the data\n",
        "data_path = \"/content/drive/MyDrive/ml_data/dhrb.mat\"\n",
        "class_path = \"/content/drive/MyDrive/ml_data/dhrbclass.mat\"\n",
        "data = loadmat(data_path)\n",
        "data_class = loadmat(class_path)\n",
        "\n",
        "X = data['X']\n",
        "y = data_class['y'].flatten()\n",
        "\n",
        "# Adjust labels if they include negative values\n",
        "if np.any(y < 0):\n",
        "    # Assuming binary classification with labels -1 and 1\n",
        "    y_bincount = y + 1  # Shifts -1 to 0 and 1 to 2\n",
        "else:\n",
        "    y_bincount = y\n",
        "\n",
        "# Scaling features\n",
        "scaler = StandardScaler()\n",
        "X_scaled = scaler.fit_transform(X)\n",
        "\n",
        "# Split data into training and testing sets\n",
        "X_train, X_test, y_train, y_test = train_test_split(X_scaled, y, test_size=0.2, random_state=42)\n",
        "\n",
        "# Adjusting y_train and y_test for bincount\n",
        "y_train_bincount = y_train + 1 if np.any(y_train < 0) else y_train\n",
        "y_test_bincount = y_test + 1 if np.any(y_test < 0) else y_test\n",
        "\n",
        "# Check label distribution\n",
        "print(\"Training labels distribution:\", np.bincount(y_train_bincount))\n",
        "print(\"Testing labels distribution:\", np.bincount(y_test_bincount))\n",
        "\n",
        "# Initialize and train the SVM with RBF kernel\n",
        "svm_classifier = SVC(kernel='rbf', C=1.0, gamma='scale')\n",
        "svm_classifier.fit(X_train, y_train)\n",
        "\n",
        "# Predictions and evaluations\n",
        "y_pred_train = svm_classifier.predict(X_train)\n",
        "y_pred_test = svm_classifier.predict(X_test)\n",
        "\n",
        "train_accuracy = accuracy_score(y_train, y_pred_train)\n",
        "test_accuracy = accuracy_score(y_test, y_pred_test)\n",
        "\n",
        "print(f\"Training Accuracy: {train_accuracy * 100:.2f}%\")\n",
        "print(f\"Testing Accuracy: {test_accuracy * 100:.2f}%\")\n",
        "\n",
        "# Plotting support vectors (optional, if dimensions allow)\n",
        "if X_train.shape[1] == 2:\n",
        "    plt.scatter(X_train[:, 0], X_train[:, 1], c=y_train, cmap='winter', marker='o', alpha=0.5)\n",
        "    plt.scatter(svm_classifier.support_vectors_[:, 0], svm_classifier.support_vectors_[:, 1], c='red')\n",
        "    plt.title(\"SVM Support Vectors\")\n",
        "    plt.show()\n"
      ]
    },
    {
      "cell_type": "markdown",
      "source": [
        "## grid search for best params"
      ],
      "metadata": {
        "id": "TzoxLrBpvuv-"
      },
      "id": "TzoxLrBpvuv-"
    },
    {
      "cell_type": "code",
      "execution_count": null,
      "id": "31f3b1be",
      "metadata": {
        "id": "31f3b1be"
      },
      "outputs": [],
      "source": [
        "# from sklearn.model_selection import GridSearchCV\n",
        "\n",
        "# # Define the parameter grid\n",
        "# param_grid = {\n",
        "#     'C': [0.1, 1, 10],\n",
        "#     'gamma': ['scale', 'auto', 0.1, 0.01],\n",
        "#     'kernel': ['rbf']\n",
        "# }\n",
        "\n",
        "# # Initialize the SVM classifier\n",
        "# svm_classifier = SVC()\n",
        "\n",
        "# # Initialize GridSearchCV\n",
        "# grid_search = GridSearchCV(estimator=svm_classifier, param_grid=param_grid, cv=5)\n",
        "\n",
        "# # Perform grid search\n",
        "# grid_search.fit(X_train, y_train)\n",
        "\n",
        "# # Get the best parameters and best score\n",
        "# best_params = grid_search.best_params_\n",
        "# best_score = grid_search.best_score_\n",
        "\n",
        "# print(\"Best Parameters:\", best_params)\n",
        "# print(\"Best Cross-Validation Score:\", best_score)\n",
        "\n",
        "# # Predictions and evaluations with best parameters\n",
        "# best_svm_classifier = grid_search.best_estimator_\n",
        "# y_pred_train_best = best_svm_classifier.predict(X_train)\n",
        "# y_pred_test_best = best_svm_classifier.predict(X_test)\n",
        "\n",
        "# train_accuracy_best = accuracy_score(y_train, y_pred_train_best)\n",
        "# test_accuracy_best = accuracy_score(y_test, y_pred_test_best)\n",
        "\n",
        "# print(f\"Training Accuracy with Best Parameters: {train_accuracy_best * 100:.2f}%\")\n",
        "# print(f\"Testing Accuracy with Best Parameters: {test_accuracy_best * 100:.2f}%\")\n"
      ]
    },
    {
      "cell_type": "markdown",
      "id": "64e0782e",
      "metadata": {
        "id": "64e0782e"
      },
      "source": [
        "## linear svm"
      ]
    },
    {
      "cell_type": "code",
      "execution_count": null,
      "id": "1b03e63f",
      "metadata": {
        "id": "1b03e63f"
      },
      "outputs": [],
      "source": [
        "import numpy as np\n",
        "from sklearn.preprocessing import StandardScaler\n",
        "from sklearn.model_selection import train_test_split\n",
        "from sklearn.svm import SVC, LinearSVC\n",
        "from sklearn.metrics import accuracy_score\n",
        "from scipy.io import loadmat\n",
        "import matplotlib.pyplot as plt\n",
        "\n",
        "# Load the data\n",
        "data_path = \"/content/drive/MyDrive/ml_data/dhrb.mat\"\n",
        "class_path = \"/content/drive/MyDrive/ml_data/dhrbclass.mat\"\n",
        "data = loadmat(data_path)\n",
        "data_class = loadmat(class_path)\n",
        "\n",
        "X = data['X']\n",
        "y = data_class['y'].flatten()\n",
        "\n",
        "# Adjust labels if they include negative values\n",
        "if np.any(y < 0):\n",
        "    # Assuming binary classification with labels -1 and 1\n",
        "    y_bincount = y + 1  # Shifts -1 to 0 and 1 to 2\n",
        "else:\n",
        "    y_bincount = y\n",
        "\n",
        "# Scaling features\n",
        "scaler = StandardScaler()\n",
        "X_scaled = scaler.fit_transform(X)\n",
        "\n",
        "# Split data into training and testing sets\n",
        "X_train, X_test, y_train, y_test = train_test_split(X_scaled, y, test_size=0.2, random_state=42)\n",
        "\n",
        "# Adjusting y_train and y_test for bincount\n",
        "y_train_bincount = y_train + 1 if np.any(y_train < 0) else y_train\n",
        "y_test_bincount = y_test + 1 if np.any(y_test < 0) else y_test\n",
        "\n",
        "# Check label distribution\n",
        "print(\"Training labels distribution:\", np.bincount(y_train_bincount))\n",
        "print(\"Testing labels distribution:\", np.bincount(y_test_bincount))\n",
        "\n",
        "# Initialize and train the SVM with RBF kernel\n",
        "svm_classifier = LinearSVC(C=1.0, dual=False)\n",
        "svm_classifier.fit(X_train, y_train)\n",
        "\n",
        "# Predictions and evaluations\n",
        "y_pred_train = svm_classifier.predict(X_train)\n",
        "y_pred_test = svm_classifier.predict(X_test)\n",
        "\n",
        "train_accuracy = accuracy_score(y_train, y_pred_train)\n",
        "test_accuracy = accuracy_score(y_test, y_pred_test)\n",
        "\n",
        "print(f\"Training Accuracy: {train_accuracy * 100:.2f}%\")\n",
        "print(f\"Testing Accuracy: {test_accuracy * 100:.2f}%\")\n",
        "\n",
        "# Plotting support vectors (optional, if dimensions allow)\n",
        "if X_train.shape[1] == 2:\n",
        "    plt.scatter(X_train[:, 0], X_train[:, 1], c=y_train, cmap='winter', marker='o', alpha=0.5)\n",
        "    plt.scatter(svm_classifier.support_vectors_[:, 0], svm_classifier.support_vectors_[:, 1], c='red')\n",
        "    plt.title(\"SVM Support Vectors\")\n",
        "    plt.show()\n"
      ]
    },
    {
      "cell_type": "markdown",
      "source": [
        "# a5a.t dataset"
      ],
      "metadata": {
        "id": "ITpmFsnOwGch"
      },
      "id": "ITpmFsnOwGch"
    },
    {
      "cell_type": "markdown",
      "source": [
        "# libsvm on a5a dataset"
      ],
      "metadata": {
        "id": "IUMWrCHZxAi9"
      },
      "id": "IUMWrCHZxAi9"
    },
    {
      "cell_type": "code",
      "source": [
        "import numpy as np\n",
        "from sklearn.preprocessing import StandardScaler\n",
        "from sklearn.model_selection import train_test_split\n",
        "from sklearn.svm import SVC\n",
        "from sklearn.metrics import accuracy_score\n",
        "from sklearn.datasets import load_svmlight_file\n",
        "\n",
        "# Load the dataset from the LIBSVM format file\n",
        "X, y = load_svmlight_file('/content/drive/MyDrive/ml_data/a5a.t')\n",
        "\n",
        "# Convert to dense format as many scikit-learn estimators expect dense format\n",
        "X_dense = X.toarray()\n",
        "\n",
        "# Split data into training and testing sets\n",
        "X_train, X_test, y_train, y_test = train_test_split(X_dense, y, test_size=0.2, random_state=42)\n",
        "\n",
        "# Standardize the data\n",
        "scaler = StandardScaler()\n",
        "X_train_scaled = scaler.fit_transform(X_train)\n",
        "X_test_scaled = scaler.transform(X_test)\n",
        "\n",
        "# Initialize and train the SVM with RBF kernel\n",
        "svm_classifier = SVC(C=1.0, kernel='rbf', random_state=42)\n",
        "\n",
        "start_time = time.time()\n",
        "svm_classifier.fit(X_train_scaled, y_train)\n",
        "elapsed_time = time.time() - start_time  # Calculate elapsed time\n",
        "\n",
        "# Predictions and evaluations\n",
        "y_pred_train = svm_classifier.predict(X_train_scaled)\n",
        "y_pred_test = svm_classifier.predict(X_test_scaled)\n",
        "\n",
        "train_accuracy = accuracy_score(y_train, y_pred_train)\n",
        "test_accuracy = accuracy_score(y_test, y_pred_test)\n",
        "\n",
        "print(f\"Training Accuracy: {train_accuracy * 100:.2f}%\")\n",
        "print(f\"Testing Accuracy: {test_accuracy * 100:.2f}%\")\n",
        "print(\"Training time:\", elapsed_time, \"seconds\")\n"
      ],
      "metadata": {
        "colab": {
          "base_uri": "https://localhost:8080/"
        },
        "id": "B0WEzy0Nxeuz",
        "outputId": "38328f4f-1486-4949-8029-a106b2e942ce"
      },
      "id": "B0WEzy0Nxeuz",
      "execution_count": 3,
      "outputs": [
        {
          "output_type": "stream",
          "name": "stdout",
          "text": [
            "Training Accuracy: 86.64%\n",
            "Testing Accuracy: 84.72%\n",
            "Training time: 39.91389226913452 seconds\n"
          ]
        }
      ]
    },
    {
      "cell_type": "markdown",
      "source": [
        "# LinearSVM on a5a dataset"
      ],
      "metadata": {
        "id": "tNlscSk_xgzD"
      },
      "id": "tNlscSk_xgzD"
    },
    {
      "cell_type": "code",
      "execution_count": 4,
      "id": "c120df1f",
      "metadata": {
        "id": "c120df1f",
        "colab": {
          "base_uri": "https://localhost:8080/"
        },
        "outputId": "faccac8e-da54-463d-8d77-c98291a7eede"
      },
      "outputs": [
        {
          "output_type": "stream",
          "name": "stdout",
          "text": [
            "Training Accuracy: 84.83%\n",
            "Testing Accuracy: 85.41%\n",
            "Training time: 2.8468470573425293 seconds\n"
          ]
        }
      ],
      "source": [
        "import numpy as np\n",
        "from sklearn.preprocessing import StandardScaler\n",
        "from sklearn.model_selection import train_test_split\n",
        "from sklearn.svm import LinearSVC\n",
        "from sklearn.metrics import accuracy_score\n",
        "from sklearn.datasets import load_svmlight_file\n",
        "\n",
        "# Load the dataset from the LIBSVM format file\n",
        "X, y = load_svmlight_file('/content/drive/MyDrive/ml_data/a5a.t')\n",
        "\n",
        "# Convert to dense format as many scikit-learn estimators expect dense format\n",
        "X_dense = X.toarray()\n",
        "\n",
        "# Split data into training and testing sets\n",
        "X_train, X_test, y_train, y_test = train_test_split(X_dense, y, test_size=0.2, random_state=42)\n",
        "\n",
        "# Standardize the data\n",
        "scaler = StandardScaler()\n",
        "X_train_scaled = scaler.fit_transform(X_train)\n",
        "X_test_scaled = scaler.transform(X_test)\n",
        "\n",
        "# Initialize and train the Linear SVM\n",
        "svm_classifier = LinearSVC(C=1.0, dual=False, random_state=42)\n",
        "\n",
        "start_time = time.time()\n",
        "svm_classifier.fit(X_train_scaled, y_train)\n",
        "elapsed_time = time.time() - start_time\n",
        "\n",
        "# Predictions and evaluations\n",
        "y_pred_train = svm_classifier.predict(X_train_scaled)\n",
        "y_pred_test = svm_classifier.predict(X_test_scaled)\n",
        "\n",
        "train_accuracy = accuracy_score(y_train, y_pred_train)\n",
        "test_accuracy = accuracy_score(y_test, y_pred_test)\n",
        "\n",
        "print(f\"Training Accuracy: {train_accuracy * 100:.2f}%\")\n",
        "print(f\"Testing Accuracy: {test_accuracy * 100:.2f}%\")\n",
        "print(\"Training time:\", elapsed_time, \"seconds\")\n"
      ]
    },
    {
      "cell_type": "markdown",
      "source": [
        "# a6a dataset"
      ],
      "metadata": {
        "id": "3I8VC-IelKMN"
      },
      "id": "3I8VC-IelKMN"
    },
    {
      "cell_type": "markdown",
      "source": [
        "# libsvm on a6a dataset"
      ],
      "metadata": {
        "id": "nI4YwgZVlqOr"
      },
      "id": "nI4YwgZVlqOr"
    },
    {
      "cell_type": "code",
      "source": [
        "import numpy as np\n",
        "from sklearn.preprocessing import StandardScaler\n",
        "from sklearn.model_selection import train_test_split\n",
        "from sklearn.svm import SVC\n",
        "from sklearn.metrics import accuracy_score\n",
        "from sklearn.datasets import load_svmlight_file\n",
        "\n",
        "# Load the dataset from the LIBSVM format file\n",
        "X, y = load_svmlight_file('/content/drive/MyDrive/ml_data/a6a.t')\n",
        "\n",
        "# Convert to dense format as many scikit-learn estimators expect dense format\n",
        "X_dense = X.toarray()\n",
        "\n",
        "# Split data into training and testing sets\n",
        "X_train, X_test, y_train, y_test = train_test_split(X_dense, y, test_size=0.2, random_state=42)\n",
        "\n",
        "# Standardize the data\n",
        "scaler = StandardScaler()\n",
        "X_train_scaled = scaler.fit_transform(X_train)\n",
        "X_test_scaled = scaler.transform(X_test)\n",
        "\n",
        "# Initialize and train the SVM with RBF kernel\n",
        "svm_classifier = SVC(C=1.0, kernel='rbf', random_state=42)\n",
        "\n",
        "start_time = time.time()\n",
        "svm_classifier.fit(X_train_scaled, y_train)\n",
        "elapsed_time = time.time() - start_time  # Calculate elapsed time\n",
        "\n",
        "# Predictions and evaluations\n",
        "y_pred_train = svm_classifier.predict(X_train_scaled)\n",
        "y_pred_test = svm_classifier.predict(X_test_scaled)\n",
        "\n",
        "train_accuracy = accuracy_score(y_train, y_pred_train)\n",
        "test_accuracy = accuracy_score(y_test, y_pred_test)\n",
        "\n",
        "print(f\"Training Accuracy: {train_accuracy * 100:.2f}%\")\n",
        "print(f\"Testing Accuracy: {test_accuracy * 100:.2f}%\")\n",
        "print(\"Training time:\", elapsed_time, \"seconds\")\n"
      ],
      "metadata": {
        "colab": {
          "base_uri": "https://localhost:8080/"
        },
        "id": "F2S2qkYFinkE",
        "outputId": "49860b15-cee5-4ab9-977e-a01d615fb1ef"
      },
      "id": "F2S2qkYFinkE",
      "execution_count": 5,
      "outputs": [
        {
          "output_type": "stream",
          "name": "stdout",
          "text": [
            "Training Accuracy: 86.94%\n",
            "Testing Accuracy: 84.68%\n",
            "Training time: 36.4747428894043 seconds\n"
          ]
        }
      ]
    },
    {
      "cell_type": "markdown",
      "source": [
        "# linear svm on a6a"
      ],
      "metadata": {
        "id": "SX2NbJiZluFt"
      },
      "id": "SX2NbJiZluFt"
    },
    {
      "cell_type": "code",
      "source": [
        "import numpy as np\n",
        "from sklearn.preprocessing import StandardScaler\n",
        "from sklearn.model_selection import train_test_split\n",
        "from sklearn.svm import LinearSVC\n",
        "from sklearn.metrics import accuracy_score\n",
        "from sklearn.datasets import load_svmlight_file\n",
        "\n",
        "# Load the dataset from the LIBSVM format file\n",
        "X, y = load_svmlight_file('/content/drive/MyDrive/ml_data/a6a.t')\n",
        "\n",
        "# Convert to dense format as many scikit-learn estimators expect dense format\n",
        "X_dense = X.toarray()\n",
        "\n",
        "# Split data into training and testing sets\n",
        "X_train, X_test, y_train, y_test = train_test_split(X_dense, y, test_size=0.2, random_state=42)\n",
        "\n",
        "# Standardize the data\n",
        "scaler = StandardScaler()\n",
        "X_train_scaled = scaler.fit_transform(X_train)\n",
        "X_test_scaled = scaler.transform(X_test)\n",
        "\n",
        "# Initialize and train the Linear SVM\n",
        "svm_classifier = LinearSVC(C=1.0, dual=False, random_state=42)\n",
        "\n",
        "start_time = time.time()\n",
        "svm_classifier.fit(X_train_scaled, y_train)\n",
        "elapsed_time = time.time() - start_time\n",
        "\n",
        "# Predictions and evaluations\n",
        "y_pred_train = svm_classifier.predict(X_train_scaled)\n",
        "y_pred_test = svm_classifier.predict(X_test_scaled)\n",
        "\n",
        "train_accuracy = accuracy_score(y_train, y_pred_train)\n",
        "test_accuracy = accuracy_score(y_test, y_pred_test)\n",
        "\n",
        "print(f\"Training Accuracy: {train_accuracy * 100:.2f}%\")\n",
        "print(f\"Testing Accuracy: {test_accuracy * 100:.2f}%\")\n",
        "print(\"Training time:\", elapsed_time, \"seconds\")\n"
      ],
      "metadata": {
        "colab": {
          "base_uri": "https://localhost:8080/"
        },
        "id": "d--BuOrJing6",
        "outputId": "70300767-fdfa-4349-871b-43b49b0262c9"
      },
      "id": "d--BuOrJing6",
      "execution_count": 6,
      "outputs": [
        {
          "output_type": "stream",
          "name": "stdout",
          "text": [
            "Training Accuracy: 85.06%\n",
            "Testing Accuracy: 85.06%\n",
            "Training time: 0.6994783878326416 seconds\n"
          ]
        }
      ]
    },
    {
      "cell_type": "markdown",
      "source": [
        "# a7a dataset"
      ],
      "metadata": {
        "id": "AV9ABzE_m5om"
      },
      "id": "AV9ABzE_m5om"
    },
    {
      "cell_type": "markdown",
      "source": [
        "# libsvm on a7a dataset"
      ],
      "metadata": {
        "id": "wLxClgf4m7XA"
      },
      "id": "wLxClgf4m7XA"
    },
    {
      "cell_type": "code",
      "source": [
        "import numpy as np\n",
        "from sklearn.preprocessing import StandardScaler\n",
        "from sklearn.model_selection import train_test_split\n",
        "from sklearn.svm import SVC\n",
        "from sklearn.metrics import accuracy_score\n",
        "from sklearn.datasets import load_svmlight_file\n",
        "\n",
        "# Load the dataset from the LIBSVM format file\n",
        "X, y = load_svmlight_file('/content/drive/MyDrive/ml_data/a7a.t')\n",
        "\n",
        "# Convert to dense format as many scikit-learn estimators expect dense format\n",
        "X_dense = X.toarray()\n",
        "\n",
        "# Split data into training and testing sets\n",
        "X_train, X_test, y_train, y_test = train_test_split(X_dense, y, test_size=0.2, random_state=42)\n",
        "\n",
        "# Standardize the data\n",
        "scaler = StandardScaler()\n",
        "X_train_scaled = scaler.fit_transform(X_train)\n",
        "X_test_scaled = scaler.transform(X_test)\n",
        "\n",
        "# Initialize and train the SVM with RBF kernel\n",
        "svm_classifier = SVC(C=1.0, kernel='rbf', random_state=42)\n",
        "\n",
        "start_time = time.time()\n",
        "svm_classifier.fit(X_train_scaled, y_train)\n",
        "elapsed_time = time.time() - start_time  # Calculate elapsed time\n",
        "\n",
        "# Predictions and evaluations\n",
        "y_pred_train = svm_classifier.predict(X_train_scaled)\n",
        "y_pred_test = svm_classifier.predict(X_test_scaled)\n",
        "\n",
        "train_accuracy = accuracy_score(y_train, y_pred_train)\n",
        "test_accuracy = accuracy_score(y_test, y_pred_test)\n",
        "\n",
        "print(f\"Training Accuracy: {train_accuracy * 100:.2f}%\")\n",
        "print(f\"Testing Accuracy: {test_accuracy * 100:.2f}%\")\n",
        "print(\"Training time:\", elapsed_time, \"seconds\")\n"
      ],
      "metadata": {
        "colab": {
          "base_uri": "https://localhost:8080/"
        },
        "id": "4Cu5gkzDinXP",
        "outputId": "0270ff5e-6a62-4eac-80f2-b872049e7ab2"
      },
      "id": "4Cu5gkzDinXP",
      "execution_count": 7,
      "outputs": [
        {
          "output_type": "stream",
          "name": "stdout",
          "text": [
            "Training Accuracy: 87.32%\n",
            "Testing Accuracy: 83.09%\n",
            "Training time: 21.541465044021606 seconds\n"
          ]
        }
      ]
    },
    {
      "cell_type": "markdown",
      "source": [
        "# linear svm on a7a"
      ],
      "metadata": {
        "id": "C_iJCrs8nCw4"
      },
      "id": "C_iJCrs8nCw4"
    },
    {
      "cell_type": "code",
      "source": [
        "import numpy as np\n",
        "from sklearn.preprocessing import StandardScaler\n",
        "from sklearn.model_selection import train_test_split\n",
        "from sklearn.svm import LinearSVC\n",
        "from sklearn.metrics import accuracy_score\n",
        "from sklearn.datasets import load_svmlight_file\n",
        "\n",
        "# Load the dataset from the LIBSVM format file\n",
        "X, y = load_svmlight_file('/content/drive/MyDrive/ml_data/a7a.t')\n",
        "\n",
        "# Convert to dense format as many scikit-learn estimators expect dense format\n",
        "X_dense = X.toarray()\n",
        "\n",
        "# Split data into training and testing sets\n",
        "X_train, X_test, y_train, y_test = train_test_split(X_dense, y, test_size=0.2, random_state=42)\n",
        "\n",
        "# Standardize the data\n",
        "scaler = StandardScaler()\n",
        "X_train_scaled = scaler.fit_transform(X_train)\n",
        "X_test_scaled = scaler.transform(X_test)\n",
        "\n",
        "# Initialize and train the Linear SVM\n",
        "svm_classifier = LinearSVC(C=1.0, dual=False, random_state=42)\n",
        "\n",
        "start_time = time.time()\n",
        "svm_classifier.fit(X_train_scaled, y_train)\n",
        "elapsed_time = time.time() - start_time\n",
        "\n",
        "# Predictions and evaluations\n",
        "y_pred_train = svm_classifier.predict(X_train_scaled)\n",
        "y_pred_test = svm_classifier.predict(X_test_scaled)\n",
        "\n",
        "train_accuracy = accuracy_score(y_train, y_pred_train)\n",
        "test_accuracy = accuracy_score(y_test, y_pred_test)\n",
        "\n",
        "print(f\"Training Accuracy: {train_accuracy * 100:.2f}%\")\n",
        "print(f\"Testing Accuracy: {test_accuracy * 100:.2f}%\")\n",
        "print(\"Training time:\", elapsed_time, \"seconds\")\n"
      ],
      "metadata": {
        "colab": {
          "base_uri": "https://localhost:8080/"
        },
        "id": "IOtYsFZmm1cs",
        "outputId": "a3e9c62f-8ab9-4984-cbe8-7d3ee44f1859"
      },
      "id": "IOtYsFZmm1cs",
      "execution_count": 8,
      "outputs": [
        {
          "output_type": "stream",
          "name": "stdout",
          "text": [
            "Training Accuracy: 85.51%\n",
            "Testing Accuracy: 84.06%\n",
            "Training time: 1.7233028411865234 seconds\n"
          ]
        }
      ]
    },
    {
      "cell_type": "markdown",
      "source": [
        "# a8a dataset"
      ],
      "metadata": {
        "id": "BDx_03zgn-W7"
      },
      "id": "BDx_03zgn-W7"
    },
    {
      "cell_type": "markdown",
      "source": [
        "# libsvm on a8a"
      ],
      "metadata": {
        "id": "97dbEETVoAFa"
      },
      "id": "97dbEETVoAFa"
    },
    {
      "cell_type": "code",
      "source": [
        "import numpy as np\n",
        "from sklearn.preprocessing import StandardScaler\n",
        "from sklearn.model_selection import train_test_split\n",
        "from sklearn.svm import SVC\n",
        "from sklearn.metrics import accuracy_score\n",
        "from sklearn.datasets import load_svmlight_file\n",
        "\n",
        "# Load the dataset from the LIBSVM format file\n",
        "X, y = load_svmlight_file('/content/drive/MyDrive/ml_data/a8a.t')\n",
        "\n",
        "# Convert to dense format as many scikit-learn estimators expect dense format\n",
        "X_dense = X.toarray()\n",
        "\n",
        "# Split data into training and testing sets\n",
        "X_train, X_test, y_train, y_test = train_test_split(X_dense, y, test_size=0.2, random_state=42)\n",
        "\n",
        "# Standardize the data\n",
        "scaler = StandardScaler()\n",
        "X_train_scaled = scaler.fit_transform(X_train)\n",
        "X_test_scaled = scaler.transform(X_test)\n",
        "\n",
        "# Initialize and train the SVM with RBF kernel\n",
        "svm_classifier = SVC(C=1.0, kernel='rbf', random_state=42)\n",
        "\n",
        "start_time = time.time()\n",
        "svm_classifier.fit(X_train_scaled, y_train)\n",
        "elapsed_time = time.time() - start_time  # Calculate elapsed time\n",
        "\n",
        "# Predictions and evaluations\n",
        "y_pred_train = svm_classifier.predict(X_train_scaled)\n",
        "y_pred_test = svm_classifier.predict(X_test_scaled)\n",
        "\n",
        "train_accuracy = accuracy_score(y_train, y_pred_train)\n",
        "test_accuracy = accuracy_score(y_test, y_pred_test)\n",
        "\n",
        "print(f\"Training Accuracy: {train_accuracy * 100:.2f}%\")\n",
        "print(f\"Testing Accuracy: {test_accuracy * 100:.2f}%\")\n",
        "print(\"Training time:\", elapsed_time, \"seconds\")\n"
      ],
      "metadata": {
        "colab": {
          "base_uri": "https://localhost:8080/"
        },
        "id": "WYODkQJOm1Zo",
        "outputId": "daafa4c2-7bec-4b01-aca0-2ea73b009fdf"
      },
      "id": "WYODkQJOm1Zo",
      "execution_count": 14,
      "outputs": [
        {
          "output_type": "stream",
          "name": "stdout",
          "text": [
            "Training Accuracy: 87.65%\n",
            "Testing Accuracy: 84.74%\n",
            "Training time: 2.7495572566986084 seconds\n"
          ]
        }
      ]
    },
    {
      "cell_type": "markdown",
      "source": [
        "# linear svm on a8a data"
      ],
      "metadata": {
        "id": "MYvOi28RoFhf"
      },
      "id": "MYvOi28RoFhf"
    },
    {
      "cell_type": "code",
      "source": [
        "import numpy as np\n",
        "from sklearn.preprocessing import StandardScaler\n",
        "from sklearn.model_selection import train_test_split\n",
        "from sklearn.svm import LinearSVC\n",
        "from sklearn.metrics import accuracy_score\n",
        "from sklearn.datasets import load_svmlight_file\n",
        "\n",
        "# Load the dataset from the LIBSVM format file\n",
        "X, y = load_svmlight_file('/content/drive/MyDrive/ml_data/a8a.t')\n",
        "\n",
        "# Convert to dense format as many scikit-learn estimators expect dense format\n",
        "X_dense = X.toarray()\n",
        "\n",
        "# Split data into training and testing sets\n",
        "X_train, X_test, y_train, y_test = train_test_split(X_dense, y, test_size=0.2, random_state=42)\n",
        "\n",
        "# Standardize the data\n",
        "scaler = StandardScaler()\n",
        "X_train_scaled = scaler.fit_transform(X_train)\n",
        "X_test_scaled = scaler.transform(X_test)\n",
        "\n",
        "# Initialize and train the Linear SVM\n",
        "svm_classifier = LinearSVC(C=1.0, dual=False, random_state=42)\n",
        "\n",
        "start_time = time.time()\n",
        "svm_classifier.fit(X_train_scaled, y_train)\n",
        "elapsed_time = time.time() - start_time\n",
        "\n",
        "# Predictions and evaluations\n",
        "y_pred_train = svm_classifier.predict(X_train_scaled)\n",
        "y_pred_test = svm_classifier.predict(X_test_scaled)\n",
        "\n",
        "train_accuracy = accuracy_score(y_train, y_pred_train)\n",
        "test_accuracy = accuracy_score(y_test, y_pred_test)\n",
        "\n",
        "print(f\"Training Accuracy: {train_accuracy * 100:.2f}%\")\n",
        "print(f\"Testing Accuracy: {test_accuracy * 100:.2f}%\")\n",
        "print(\"Training time:\", elapsed_time, \"seconds\")\n"
      ],
      "metadata": {
        "colab": {
          "base_uri": "https://localhost:8080/"
        },
        "id": "u1i1JKdym1MS",
        "outputId": "cc7cdddb-4532-4a26-a3dc-2ad3c7584c7d"
      },
      "id": "u1i1JKdym1MS",
      "execution_count": 10,
      "outputs": [
        {
          "output_type": "stream",
          "name": "stdout",
          "text": [
            "Training Accuracy: 85.77%\n",
            "Testing Accuracy: 85.81%\n",
            "Training time: 0.6738629341125488 seconds\n"
          ]
        }
      ]
    },
    {
      "cell_type": "markdown",
      "source": [
        "# a9a dataset"
      ],
      "metadata": {
        "id": "8zihE5v0oQvf"
      },
      "id": "8zihE5v0oQvf"
    },
    {
      "cell_type": "markdown",
      "source": [
        "# libsvm on a9a"
      ],
      "metadata": {
        "id": "ffGqqvLXoS97"
      },
      "id": "ffGqqvLXoS97"
    },
    {
      "cell_type": "code",
      "source": [
        "import numpy as np\n",
        "from sklearn.preprocessing import StandardScaler\n",
        "from sklearn.model_selection import train_test_split\n",
        "from sklearn.svm import SVC\n",
        "from sklearn.metrics import accuracy_score\n",
        "from sklearn.datasets import load_svmlight_file\n",
        "\n",
        "# Load the dataset from the LIBSVM format file\n",
        "X, y = load_svmlight_file('/content/drive/MyDrive/ml_data/a9a.t')\n",
        "\n",
        "# Convert to dense format as many scikit-learn estimators expect dense format\n",
        "X_dense = X.toarray()\n",
        "\n",
        "# Split data into training and testing sets\n",
        "X_train, X_test, y_train, y_test = train_test_split(X_dense, y, test_size=0.2, random_state=42)\n",
        "\n",
        "# Standardize the data\n",
        "scaler = StandardScaler()\n",
        "X_train_scaled = scaler.fit_transform(X_train)\n",
        "X_test_scaled = scaler.transform(X_test)\n",
        "\n",
        "# Initialize and train the SVM with RBF kernel\n",
        "svm_classifier = SVC(C=1.0, kernel='rbf', random_state=42)\n",
        "\n",
        "start_time = time.time()\n",
        "svm_classifier.fit(X_train_scaled, y_train)\n",
        "elapsed_time = time.time() - start_time  # Calculate elapsed time\n",
        "\n",
        "# Predictions and evaluations\n",
        "y_pred_train = svm_classifier.predict(X_train_scaled)\n",
        "y_pred_test = svm_classifier.predict(X_test_scaled)\n",
        "\n",
        "train_accuracy = accuracy_score(y_train, y_pred_train)\n",
        "test_accuracy = accuracy_score(y_test, y_pred_test)\n",
        "\n",
        "print(f\"Training Accuracy: {train_accuracy * 100:.2f}%\")\n",
        "print(f\"Testing Accuracy: {test_accuracy * 100:.2f}%\")\n",
        "print(\"Training time:\", elapsed_time, \"seconds\")\n"
      ],
      "metadata": {
        "colab": {
          "base_uri": "https://localhost:8080/"
        },
        "id": "Ydrwspbmm1Do",
        "outputId": "3d6e9d17-df82-4e68-9abf-53f3b6e8934e"
      },
      "id": "Ydrwspbmm1Do",
      "execution_count": 12,
      "outputs": [
        {
          "output_type": "stream",
          "name": "stdout",
          "text": [
            "Training Accuracy: 86.99%\n",
            "Testing Accuracy: 84.56%\n",
            "Training time: 19.59955334663391 seconds\n"
          ]
        }
      ]
    },
    {
      "cell_type": "markdown",
      "source": [
        "# linear svm on a9a"
      ],
      "metadata": {
        "id": "ZlvUKXyioaTh"
      },
      "id": "ZlvUKXyioaTh"
    },
    {
      "cell_type": "code",
      "source": [
        "import numpy as np\n",
        "from sklearn.preprocessing import StandardScaler\n",
        "from sklearn.model_selection import train_test_split\n",
        "from sklearn.svm import LinearSVC\n",
        "from sklearn.metrics import accuracy_score\n",
        "from sklearn.datasets import load_svmlight_file\n",
        "\n",
        "# Load the dataset from the LIBSVM format file\n",
        "X, y = load_svmlight_file('/content/drive/MyDrive/ml_data/a9a.t')\n",
        "\n",
        "# Convert to dense format as many scikit-learn estimators expect dense format\n",
        "X_dense = X.toarray()\n",
        "\n",
        "# Split data into training and testing sets\n",
        "X_train, X_test, y_train, y_test = train_test_split(X_dense, y, test_size=0.2, random_state=42)\n",
        "\n",
        "# Standardize the data\n",
        "scaler = StandardScaler()\n",
        "X_train_scaled = scaler.fit_transform(X_train)\n",
        "X_test_scaled = scaler.transform(X_test)\n",
        "\n",
        "# Initialize and train the Linear SVM\n",
        "svm_classifier = LinearSVC(C=1.0, dual=False, random_state=42)\n",
        "\n",
        "start_time = time.time()\n",
        "svm_classifier.fit(X_train_scaled, y_train)\n",
        "elapsed_time = time.time() - start_time\n",
        "\n",
        "# Predictions and evaluations\n",
        "y_pred_train = svm_classifier.predict(X_train_scaled)\n",
        "y_pred_test = svm_classifier.predict(X_test_scaled)\n",
        "\n",
        "train_accuracy = accuracy_score(y_train, y_pred_train)\n",
        "test_accuracy = accuracy_score(y_test, y_pred_test)\n",
        "\n",
        "print(f\"Training Accuracy: {train_accuracy * 100:.2f}%\")\n",
        "print(f\"Testing Accuracy: {test_accuracy * 100:.2f}%\")\n",
        "print(\"Training time:\", elapsed_time, \"seconds\")\n"
      ],
      "metadata": {
        "colab": {
          "base_uri": "https://localhost:8080/"
        },
        "id": "Rqk_FJljm1Ac",
        "outputId": "782d8051-1876-41bf-bab1-939201a6ea34"
      },
      "id": "Rqk_FJljm1Ac",
      "execution_count": 13,
      "outputs": [
        {
          "output_type": "stream",
          "name": "stdout",
          "text": [
            "Training Accuracy: 85.42%\n",
            "Testing Accuracy: 84.77%\n",
            "Training time: 0.563878059387207 seconds\n"
          ]
        }
      ]
    },
    {
      "cell_type": "code",
      "source": [],
      "metadata": {
        "id": "4fpq2l_nm092"
      },
      "id": "4fpq2l_nm092",
      "execution_count": null,
      "outputs": []
    },
    {
      "cell_type": "code",
      "source": [],
      "metadata": {
        "id": "7nVI2t_qinUA"
      },
      "id": "7nVI2t_qinUA",
      "execution_count": null,
      "outputs": []
    },
    {
      "cell_type": "code",
      "source": [],
      "metadata": {
        "id": "9reTm0WkinQ7"
      },
      "id": "9reTm0WkinQ7",
      "execution_count": null,
      "outputs": []
    },
    {
      "cell_type": "markdown",
      "source": [
        "# sonar, rocks vs mines dataset, UCI"
      ],
      "metadata": {
        "id": "xr8-FR8Rxw9v"
      },
      "id": "xr8-FR8Rxw9v"
    },
    {
      "cell_type": "markdown",
      "source": [
        "# libsvm on sonar, rocks vs mines dataset"
      ],
      "metadata": {
        "id": "t-Sz4T39yfGJ"
      },
      "id": "t-Sz4T39yfGJ"
    },
    {
      "cell_type": "code",
      "source": [
        "import numpy as np\n",
        "import pandas as pd\n",
        "from sklearn.preprocessing import StandardScaler\n",
        "from sklearn.model_selection import train_test_split\n",
        "from sklearn.svm import SVC\n",
        "from sklearn.metrics import accuracy_score\n",
        "from sklearn.datasets import load_svmlight_file\n",
        "\n",
        "# Load the dataset from the LIBSVM format file\n",
        "# Load the dataset\n",
        "url = \"https://archive.ics.uci.edu/ml/machine-learning-databases/undocumented/connectionist-bench/sonar/sonar.all-data\"\n",
        "data = pd.read_csv(url, header=None)\n",
        "\n",
        "# The last column contains labels: 'R' for rock and 'M' for mine\n",
        "X = data.iloc[:, :-1].values\n",
        "y = data.iloc[:, -1].values\n",
        "\n",
        "# Convert class labels 'R' and 'M' to -1 and 1\n",
        "y = np.where(y == 'R', -1, 1)\n",
        "\n",
        "# Split data into training and testing sets\n",
        "X_train, X_test, y_train, y_test = train_test_split(X, y, test_size=0.2, random_state=42)\n",
        "\n",
        "# Standardize the data\n",
        "scaler = StandardScaler()\n",
        "X_train_scaled = scaler.fit_transform(X_train)\n",
        "X_test_scaled = scaler.transform(X_test)\n",
        "\n",
        "# Initialize and train the SVM with RBF kernel\n",
        "svm_classifier = SVC(C=1.0, kernel='rbf', random_state=42)\n",
        "svm_classifier.fit(X_train_scaled, y_train)\n",
        "\n",
        "# Predictions and evaluations\n",
        "y_pred_train = svm_classifier.predict(X_train_scaled)\n",
        "y_pred_test = svm_classifier.predict(X_test_scaled)\n",
        "\n",
        "train_accuracy = accuracy_score(y_train, y_pred_train)\n",
        "test_accuracy = accuracy_score(y_test, y_pred_test)\n",
        "\n",
        "print(f\"Training Accuracy: {train_accuracy * 100:.2f}%\")\n",
        "print(f\"Testing Accuracy: {test_accuracy * 100:.2f}%\")\n"
      ],
      "metadata": {
        "colab": {
          "base_uri": "https://localhost:8080/"
        },
        "id": "d5cRRe6Cx115",
        "outputId": "663ed7d5-d18a-4ee3-e281-ae78e3ece579"
      },
      "id": "d5cRRe6Cx115",
      "execution_count": null,
      "outputs": [
        {
          "output_type": "stream",
          "name": "stdout",
          "text": [
            "Training Accuracy: 98.19%\n",
            "Testing Accuracy: 88.10%\n"
          ]
        }
      ]
    },
    {
      "cell_type": "markdown",
      "source": [
        "# linearSVM on sonar, rocks vs mines dataset"
      ],
      "metadata": {
        "id": "jRPPnZQkyaHi"
      },
      "id": "jRPPnZQkyaHi"
    },
    {
      "cell_type": "code",
      "execution_count": null,
      "id": "bbfe14c8",
      "metadata": {
        "id": "bbfe14c8",
        "colab": {
          "base_uri": "https://localhost:8080/"
        },
        "outputId": "1e345339-b631-43d8-f7c8-9956d2975ac3"
      },
      "outputs": [
        {
          "output_type": "stream",
          "name": "stdout",
          "text": [
            "Training Accuracy: 98.80%\n",
            "Testing Accuracy: 80.95%\n"
          ]
        }
      ],
      "source": [
        "import numpy as np\n",
        "from sklearn.preprocessing import StandardScaler\n",
        "from sklearn.model_selection import train_test_split\n",
        "from sklearn.svm import LinearSVC\n",
        "from sklearn.metrics import accuracy_score\n",
        "from sklearn.datasets import load_svmlight_file\n",
        "\n",
        "# Load the dataset from the LIBSVM format file\n",
        "url = \"https://archive.ics.uci.edu/ml/machine-learning-databases/undocumented/connectionist-bench/sonar/sonar.all-data\"\n",
        "data = pd.read_csv(url, header=None)\n",
        "\n",
        "# The last column contains labels: 'R' for rock and 'M' for mine\n",
        "X = data.iloc[:, :-1].values\n",
        "y = data.iloc[:, -1].values\n",
        "\n",
        "# Convert class labels 'R' and 'M' to -1 and 1\n",
        "y = np.where(y == 'R', -1, 1)\n",
        "\n",
        "# Split data into training and testing sets\n",
        "X_train, X_test, y_train, y_test = train_test_split(X, y, test_size=0.2, random_state=42)\n",
        "\n",
        "# Standardize the data\n",
        "scaler = StandardScaler()\n",
        "X_train_scaled = scaler.fit_transform(X_train)\n",
        "X_test_scaled = scaler.transform(X_test)\n",
        "\n",
        "# Initialize and train the Linear SVM\n",
        "svm_classifier = LinearSVC(C=1.0, dual=False, random_state=42)\n",
        "svm_classifier.fit(X_train_scaled, y_train)\n",
        "\n",
        "# Predictions and evaluations\n",
        "y_pred_train = svm_classifier.predict(X_train_scaled)\n",
        "y_pred_test = svm_classifier.predict(X_test_scaled)\n",
        "\n",
        "train_accuracy = accuracy_score(y_train, y_pred_train)\n",
        "test_accuracy = accuracy_score(y_test, y_pred_test)\n",
        "\n",
        "print(f\"Training Accuracy: {train_accuracy * 100:.2f}%\")\n",
        "print(f\"Testing Accuracy: {test_accuracy * 100:.2f}%\")\n"
      ]
    }
  ],
  "metadata": {
    "kernelspec": {
      "display_name": "Python 3",
      "name": "python3"
    },
    "language_info": {
      "codemirror_mode": {
        "name": "ipython",
        "version": 3
      },
      "file_extension": ".py",
      "mimetype": "text/x-python",
      "name": "python",
      "nbconvert_exporter": "python",
      "pygments_lexer": "ipython3",
      "version": "3.7.16"
    },
    "colab": {
      "provenance": []
    }
  },
  "nbformat": 4,
  "nbformat_minor": 5
}