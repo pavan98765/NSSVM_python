{
 "cells": [
  {
   "cell_type": "markdown",
   "id": "da69e3b1",
   "metadata": {},
   "source": [
    "## In this notebook, we test the LibSVM and LinearSVM on the same datasets, to compare it with NSSVM!"
   ]
  },
  {
   "cell_type": "markdown",
   "id": "ITpmFsnOwGch",
   "metadata": {
    "id": "ITpmFsnOwGch"
   },
   "source": [
    "# a5a dataset"
   ]
  },
  {
   "cell_type": "markdown",
   "id": "IUMWrCHZxAi9",
   "metadata": {
    "id": "IUMWrCHZxAi9"
   },
   "source": [
    "# libsvm on a5a dataset"
   ]
  },
  {
   "cell_type": "code",
   "execution_count": 2,
   "id": "B0WEzy0Nxeuz",
   "metadata": {
    "colab": {
     "base_uri": "https://localhost:8080/"
    },
    "id": "B0WEzy0Nxeuz",
    "outputId": "38328f4f-1486-4949-8029-a106b2e942ce"
   },
   "outputs": [
    {
     "name": "stdout",
     "output_type": "stream",
     "text": [
      "Training Accuracy: 86.64%\n",
      "Testing Accuracy: 84.72%\n",
      "Training time: 31.50749897956848 seconds\n"
     ]
    }
   ],
   "source": [
    "import numpy as np\n",
    "from sklearn.preprocessing import StandardScaler\n",
    "from sklearn.model_selection import train_test_split\n",
    "from sklearn.svm import SVC\n",
    "from sklearn.metrics import accuracy_score\n",
    "from sklearn.datasets import load_svmlight_file\n",
    "import time\n",
    "\n",
    "# Load the dataset from the LIBSVM format file\n",
    "X, y = load_svmlight_file('./data/a5a.t')\n",
    "\n",
    "# Convert to dense format as many scikit-learn estimators expect dense format\n",
    "X_dense = X.toarray()\n",
    "\n",
    "# Split data into training and testing sets\n",
    "X_train, X_test, y_train, y_test = train_test_split(X_dense, y, test_size=0.2, random_state=42)\n",
    "\n",
    "# Standardize the data\n",
    "scaler = StandardScaler()\n",
    "X_train_scaled = scaler.fit_transform(X_train)\n",
    "X_test_scaled = scaler.transform(X_test)\n",
    "\n",
    "# Initialize and train the SVM with RBF kernel\n",
    "svm_classifier = SVC(C=1.0, kernel='rbf', random_state=42)\n",
    "\n",
    "start_time = time.time()\n",
    "svm_classifier.fit(X_train_scaled, y_train)\n",
    "elapsed_time = time.time() - start_time  # Calculate elapsed time\n",
    "\n",
    "# Predictions and evaluations\n",
    "y_pred_train = svm_classifier.predict(X_train_scaled)\n",
    "y_pred_test = svm_classifier.predict(X_test_scaled)\n",
    "\n",
    "train_accuracy = accuracy_score(y_train, y_pred_train)\n",
    "test_accuracy = accuracy_score(y_test, y_pred_test)\n",
    "\n",
    "print(f\"Training Accuracy: {train_accuracy * 100:.2f}%\")\n",
    "print(f\"Testing Accuracy: {test_accuracy * 100:.2f}%\")\n",
    "print(\"Training time:\", elapsed_time, \"seconds\")\n"
   ]
  },
  {
   "cell_type": "markdown",
   "id": "tNlscSk_xgzD",
   "metadata": {
    "id": "tNlscSk_xgzD"
   },
   "source": [
    "# LinearSVM on a5a dataset"
   ]
  },
  {
   "cell_type": "code",
   "execution_count": 3,
   "id": "c120df1f",
   "metadata": {
    "colab": {
     "base_uri": "https://localhost:8080/"
    },
    "id": "c120df1f",
    "outputId": "faccac8e-da54-463d-8d77-c98291a7eede"
   },
   "outputs": [
    {
     "name": "stdout",
     "output_type": "stream",
     "text": [
      "Training Accuracy: 84.83%\n",
      "Testing Accuracy: 85.41%\n",
      "Training time: 1.4267833232879639 seconds\n"
     ]
    }
   ],
   "source": [
    "import numpy as np\n",
    "from sklearn.preprocessing import StandardScaler\n",
    "from sklearn.model_selection import train_test_split\n",
    "from sklearn.svm import LinearSVC\n",
    "from sklearn.metrics import accuracy_score\n",
    "from sklearn.datasets import load_svmlight_file\n",
    "import time\n",
    "\n",
    "# Load the dataset from the LIBSVM format file\n",
    "X, y = load_svmlight_file('./data/a5a.t')\n",
    "\n",
    "# Convert to dense format as many scikit-learn estimators expect dense format\n",
    "X_dense = X.toarray()\n",
    "\n",
    "# Split data into training and testing sets\n",
    "X_train, X_test, y_train, y_test = train_test_split(X_dense, y, test_size=0.2, random_state=42)\n",
    "\n",
    "# Standardize the data\n",
    "scaler = StandardScaler()\n",
    "X_train_scaled = scaler.fit_transform(X_train)\n",
    "X_test_scaled = scaler.transform(X_test)\n",
    "\n",
    "# Initialize and train the Linear SVM\n",
    "svm_classifier = LinearSVC(C=1.0, dual=False, random_state=42)\n",
    "\n",
    "start_time = time.time()\n",
    "svm_classifier.fit(X_train_scaled, y_train)\n",
    "elapsed_time = time.time() - start_time\n",
    "\n",
    "# Predictions and evaluations\n",
    "y_pred_train = svm_classifier.predict(X_train_scaled)\n",
    "y_pred_test = svm_classifier.predict(X_test_scaled)\n",
    "\n",
    "train_accuracy = accuracy_score(y_train, y_pred_train)\n",
    "test_accuracy = accuracy_score(y_test, y_pred_test)\n",
    "\n",
    "print(f\"Training Accuracy: {train_accuracy * 100:.2f}%\")\n",
    "print(f\"Testing Accuracy: {test_accuracy * 100:.2f}%\")\n",
    "print(\"Training time:\", elapsed_time, \"seconds\")\n"
   ]
  },
  {
   "cell_type": "markdown",
   "id": "3I8VC-IelKMN",
   "metadata": {
    "id": "3I8VC-IelKMN"
   },
   "source": [
    "# a6a dataset"
   ]
  },
  {
   "cell_type": "markdown",
   "id": "nI4YwgZVlqOr",
   "metadata": {
    "id": "nI4YwgZVlqOr"
   },
   "source": [
    "# libsvm on a6a dataset"
   ]
  },
  {
   "cell_type": "code",
   "execution_count": 4,
   "id": "F2S2qkYFinkE",
   "metadata": {
    "colab": {
     "base_uri": "https://localhost:8080/"
    },
    "id": "F2S2qkYFinkE",
    "outputId": "49860b15-cee5-4ab9-977e-a01d615fb1ef"
   },
   "outputs": [
    {
     "name": "stdout",
     "output_type": "stream",
     "text": [
      "Training Accuracy: 86.94%\n",
      "Testing Accuracy: 84.68%\n",
      "Training time: 20.131935834884644 seconds\n"
     ]
    }
   ],
   "source": [
    "import numpy as np\n",
    "from sklearn.preprocessing import StandardScaler\n",
    "from sklearn.model_selection import train_test_split\n",
    "from sklearn.svm import SVC\n",
    "from sklearn.metrics import accuracy_score\n",
    "from sklearn.datasets import load_svmlight_file\n",
    "\n",
    "# Load the dataset from the LIBSVM format file\n",
    "X, y = load_svmlight_file('./data/a6a.t')\n",
    "\n",
    "# Convert to dense format as many scikit-learn estimators expect dense format\n",
    "X_dense = X.toarray()\n",
    "\n",
    "# Split data into training and testing sets\n",
    "X_train, X_test, y_train, y_test = train_test_split(X_dense, y, test_size=0.2, random_state=42)\n",
    "\n",
    "# Standardize the data\n",
    "scaler = StandardScaler()\n",
    "X_train_scaled = scaler.fit_transform(X_train)\n",
    "X_test_scaled = scaler.transform(X_test)\n",
    "\n",
    "# Initialize and train the SVM with RBF kernel\n",
    "svm_classifier = SVC(C=1.0, kernel='rbf', random_state=42)\n",
    "\n",
    "start_time = time.time()\n",
    "svm_classifier.fit(X_train_scaled, y_train)\n",
    "elapsed_time = time.time() - start_time  # Calculate elapsed time\n",
    "\n",
    "# Predictions and evaluations\n",
    "y_pred_train = svm_classifier.predict(X_train_scaled)\n",
    "y_pred_test = svm_classifier.predict(X_test_scaled)\n",
    "\n",
    "train_accuracy = accuracy_score(y_train, y_pred_train)\n",
    "test_accuracy = accuracy_score(y_test, y_pred_test)\n",
    "\n",
    "print(f\"Training Accuracy: {train_accuracy * 100:.2f}%\")\n",
    "print(f\"Testing Accuracy: {test_accuracy * 100:.2f}%\")\n",
    "print(\"Training time:\", elapsed_time, \"seconds\")\n"
   ]
  },
  {
   "cell_type": "markdown",
   "id": "SX2NbJiZluFt",
   "metadata": {
    "id": "SX2NbJiZluFt"
   },
   "source": [
    "# linear svm on a6a"
   ]
  },
  {
   "cell_type": "code",
   "execution_count": 5,
   "id": "d--BuOrJing6",
   "metadata": {
    "colab": {
     "base_uri": "https://localhost:8080/"
    },
    "id": "d--BuOrJing6",
    "outputId": "70300767-fdfa-4349-871b-43b49b0262c9"
   },
   "outputs": [
    {
     "name": "stdout",
     "output_type": "stream",
     "text": [
      "Training Accuracy: 85.06%\n",
      "Testing Accuracy: 85.06%\n",
      "Training time: 0.3125319480895996 seconds\n"
     ]
    }
   ],
   "source": [
    "import numpy as np\n",
    "from sklearn.preprocessing import StandardScaler\n",
    "from sklearn.model_selection import train_test_split\n",
    "from sklearn.svm import LinearSVC\n",
    "from sklearn.metrics import accuracy_score\n",
    "from sklearn.datasets import load_svmlight_file\n",
    "\n",
    "# Load the dataset from the LIBSVM format file\n",
    "X, y = load_svmlight_file('./data/a6a.t')\n",
    "\n",
    "# Convert to dense format as many scikit-learn estimators expect dense format\n",
    "X_dense = X.toarray()\n",
    "\n",
    "# Split data into training and testing sets\n",
    "X_train, X_test, y_train, y_test = train_test_split(X_dense, y, test_size=0.2, random_state=42)\n",
    "\n",
    "# Standardize the data\n",
    "scaler = StandardScaler()\n",
    "X_train_scaled = scaler.fit_transform(X_train)\n",
    "X_test_scaled = scaler.transform(X_test)\n",
    "\n",
    "# Initialize and train the Linear SVM\n",
    "svm_classifier = LinearSVC(C=1.0, dual=False, random_state=42)\n",
    "\n",
    "start_time = time.time()\n",
    "svm_classifier.fit(X_train_scaled, y_train)\n",
    "elapsed_time = time.time() - start_time\n",
    "\n",
    "# Predictions and evaluations\n",
    "y_pred_train = svm_classifier.predict(X_train_scaled)\n",
    "y_pred_test = svm_classifier.predict(X_test_scaled)\n",
    "\n",
    "train_accuracy = accuracy_score(y_train, y_pred_train)\n",
    "test_accuracy = accuracy_score(y_test, y_pred_test)\n",
    "\n",
    "print(f\"Training Accuracy: {train_accuracy * 100:.2f}%\")\n",
    "print(f\"Testing Accuracy: {test_accuracy * 100:.2f}%\")\n",
    "print(\"Training time:\", elapsed_time, \"seconds\")\n"
   ]
  },
  {
   "cell_type": "markdown",
   "id": "AV9ABzE_m5om",
   "metadata": {
    "id": "AV9ABzE_m5om"
   },
   "source": [
    "# a7a dataset"
   ]
  },
  {
   "cell_type": "markdown",
   "id": "wLxClgf4m7XA",
   "metadata": {
    "id": "wLxClgf4m7XA"
   },
   "source": [
    "# libsvm on a7a dataset"
   ]
  },
  {
   "cell_type": "code",
   "execution_count": 6,
   "id": "4Cu5gkzDinXP",
   "metadata": {
    "colab": {
     "base_uri": "https://localhost:8080/"
    },
    "id": "4Cu5gkzDinXP",
    "outputId": "0270ff5e-6a62-4eac-80f2-b872049e7ab2"
   },
   "outputs": [
    {
     "name": "stdout",
     "output_type": "stream",
     "text": [
      "Training Accuracy: 87.32%\n",
      "Testing Accuracy: 83.09%\n",
      "Training time: 10.666053533554077 seconds\n"
     ]
    }
   ],
   "source": [
    "import numpy as np\n",
    "from sklearn.preprocessing import StandardScaler\n",
    "from sklearn.model_selection import train_test_split\n",
    "from sklearn.svm import SVC\n",
    "from sklearn.metrics import accuracy_score\n",
    "from sklearn.datasets import load_svmlight_file\n",
    "\n",
    "# Load the dataset from the LIBSVM format file\n",
    "X, y = load_svmlight_file('./data/a7a.t')\n",
    "\n",
    "# Convert to dense format as many scikit-learn estimators expect dense format\n",
    "X_dense = X.toarray()\n",
    "\n",
    "# Split data into training and testing sets\n",
    "X_train, X_test, y_train, y_test = train_test_split(X_dense, y, test_size=0.2, random_state=42)\n",
    "\n",
    "# Standardize the data\n",
    "scaler = StandardScaler()\n",
    "X_train_scaled = scaler.fit_transform(X_train)\n",
    "X_test_scaled = scaler.transform(X_test)\n",
    "\n",
    "# Initialize and train the SVM with RBF kernel\n",
    "svm_classifier = SVC(C=1.0, kernel='rbf', random_state=42)\n",
    "\n",
    "start_time = time.time()\n",
    "svm_classifier.fit(X_train_scaled, y_train)\n",
    "elapsed_time = time.time() - start_time  # Calculate elapsed time\n",
    "\n",
    "# Predictions and evaluations\n",
    "y_pred_train = svm_classifier.predict(X_train_scaled)\n",
    "y_pred_test = svm_classifier.predict(X_test_scaled)\n",
    "\n",
    "train_accuracy = accuracy_score(y_train, y_pred_train)\n",
    "test_accuracy = accuracy_score(y_test, y_pred_test)\n",
    "\n",
    "print(f\"Training Accuracy: {train_accuracy * 100:.2f}%\")\n",
    "print(f\"Testing Accuracy: {test_accuracy * 100:.2f}%\")\n",
    "print(\"Training time:\", elapsed_time, \"seconds\")\n"
   ]
  },
  {
   "cell_type": "markdown",
   "id": "C_iJCrs8nCw4",
   "metadata": {
    "id": "C_iJCrs8nCw4"
   },
   "source": [
    "# linear svm on a7a"
   ]
  },
  {
   "cell_type": "code",
   "execution_count": 7,
   "id": "IOtYsFZmm1cs",
   "metadata": {
    "colab": {
     "base_uri": "https://localhost:8080/"
    },
    "id": "IOtYsFZmm1cs",
    "outputId": "a3e9c62f-8ab9-4984-cbe8-7d3ee44f1859"
   },
   "outputs": [
    {
     "name": "stdout",
     "output_type": "stream",
     "text": [
      "Training Accuracy: 85.51%\n",
      "Testing Accuracy: 84.06%\n",
      "Training time: 0.574347734451294 seconds\n"
     ]
    }
   ],
   "source": [
    "import numpy as np\n",
    "from sklearn.preprocessing import StandardScaler\n",
    "from sklearn.model_selection import train_test_split\n",
    "from sklearn.svm import LinearSVC\n",
    "from sklearn.metrics import accuracy_score\n",
    "from sklearn.datasets import load_svmlight_file\n",
    "\n",
    "# Load the dataset from the LIBSVM format file\n",
    "X, y = load_svmlight_file('./data/a7a.t')\n",
    "\n",
    "# Convert to dense format as many scikit-learn estimators expect dense format\n",
    "X_dense = X.toarray()\n",
    "\n",
    "# Split data into training and testing sets\n",
    "X_train, X_test, y_train, y_test = train_test_split(X_dense, y, test_size=0.2, random_state=42)\n",
    "\n",
    "# Standardize the data\n",
    "scaler = StandardScaler()\n",
    "X_train_scaled = scaler.fit_transform(X_train)\n",
    "X_test_scaled = scaler.transform(X_test)\n",
    "\n",
    "# Initialize and train the Linear SVM\n",
    "svm_classifier = LinearSVC(C=1.0, dual=False, random_state=42)\n",
    "\n",
    "start_time = time.time()\n",
    "svm_classifier.fit(X_train_scaled, y_train)\n",
    "elapsed_time = time.time() - start_time\n",
    "\n",
    "# Predictions and evaluations\n",
    "y_pred_train = svm_classifier.predict(X_train_scaled)\n",
    "y_pred_test = svm_classifier.predict(X_test_scaled)\n",
    "\n",
    "train_accuracy = accuracy_score(y_train, y_pred_train)\n",
    "test_accuracy = accuracy_score(y_test, y_pred_test)\n",
    "\n",
    "print(f\"Training Accuracy: {train_accuracy * 100:.2f}%\")\n",
    "print(f\"Testing Accuracy: {test_accuracy * 100:.2f}%\")\n",
    "print(\"Training time:\", elapsed_time, \"seconds\")\n"
   ]
  },
  {
   "cell_type": "markdown",
   "id": "BDx_03zgn-W7",
   "metadata": {
    "id": "BDx_03zgn-W7"
   },
   "source": [
    "# a8a dataset"
   ]
  },
  {
   "cell_type": "markdown",
   "id": "97dbEETVoAFa",
   "metadata": {
    "id": "97dbEETVoAFa"
   },
   "source": [
    "# libsvm on a8a"
   ]
  },
  {
   "cell_type": "code",
   "execution_count": 8,
   "id": "WYODkQJOm1Zo",
   "metadata": {
    "colab": {
     "base_uri": "https://localhost:8080/"
    },
    "id": "WYODkQJOm1Zo",
    "outputId": "daafa4c2-7bec-4b01-aca0-2ea73b009fdf"
   },
   "outputs": [
    {
     "name": "stdout",
     "output_type": "stream",
     "text": [
      "Training Accuracy: 87.65%\n",
      "Testing Accuracy: 84.74%\n",
      "Training time: 3.4562928676605225 seconds\n"
     ]
    }
   ],
   "source": [
    "import numpy as np\n",
    "from sklearn.preprocessing import StandardScaler\n",
    "from sklearn.model_selection import train_test_split\n",
    "from sklearn.svm import SVC\n",
    "from sklearn.metrics import accuracy_score\n",
    "from sklearn.datasets import load_svmlight_file\n",
    "\n",
    "# Load the dataset from the LIBSVM format file\n",
    "X, y = load_svmlight_file('./data/a8a.t')\n",
    "\n",
    "# Convert to dense format as many scikit-learn estimators expect dense format\n",
    "X_dense = X.toarray()\n",
    "\n",
    "# Split data into training and testing sets\n",
    "X_train, X_test, y_train, y_test = train_test_split(X_dense, y, test_size=0.2, random_state=42)\n",
    "\n",
    "# Standardize the data\n",
    "scaler = StandardScaler()\n",
    "X_train_scaled = scaler.fit_transform(X_train)\n",
    "X_test_scaled = scaler.transform(X_test)\n",
    "\n",
    "# Initialize and train the SVM with RBF kernel\n",
    "svm_classifier = SVC(C=1.0, kernel='rbf', random_state=42)\n",
    "\n",
    "start_time = time.time()\n",
    "svm_classifier.fit(X_train_scaled, y_train)\n",
    "elapsed_time = time.time() - start_time  # Calculate elapsed time\n",
    "\n",
    "# Predictions and evaluations\n",
    "y_pred_train = svm_classifier.predict(X_train_scaled)\n",
    "y_pred_test = svm_classifier.predict(X_test_scaled)\n",
    "\n",
    "train_accuracy = accuracy_score(y_train, y_pred_train)\n",
    "test_accuracy = accuracy_score(y_test, y_pred_test)\n",
    "\n",
    "print(f\"Training Accuracy: {train_accuracy * 100:.2f}%\")\n",
    "print(f\"Testing Accuracy: {test_accuracy * 100:.2f}%\")\n",
    "print(\"Training time:\", elapsed_time, \"seconds\")\n"
   ]
  },
  {
   "cell_type": "markdown",
   "id": "MYvOi28RoFhf",
   "metadata": {
    "id": "MYvOi28RoFhf"
   },
   "source": [
    "# linear svm on a8a data"
   ]
  },
  {
   "cell_type": "code",
   "execution_count": 9,
   "id": "u1i1JKdym1MS",
   "metadata": {
    "colab": {
     "base_uri": "https://localhost:8080/"
    },
    "id": "u1i1JKdym1MS",
    "outputId": "cc7cdddb-4532-4a26-a3dc-2ad3c7584c7d"
   },
   "outputs": [
    {
     "name": "stdout",
     "output_type": "stream",
     "text": [
      "Training Accuracy: 85.77%\n",
      "Testing Accuracy: 85.81%\n",
      "Training time: 0.200056791305542 seconds\n"
     ]
    }
   ],
   "source": [
    "import numpy as np\n",
    "from sklearn.preprocessing import StandardScaler\n",
    "from sklearn.model_selection import train_test_split\n",
    "from sklearn.svm import LinearSVC\n",
    "from sklearn.metrics import accuracy_score\n",
    "from sklearn.datasets import load_svmlight_file\n",
    "\n",
    "# Load the dataset from the LIBSVM format file\n",
    "X, y = load_svmlight_file('./data/a8a.t')\n",
    "\n",
    "# Convert to dense format as many scikit-learn estimators expect dense format\n",
    "X_dense = X.toarray()\n",
    "\n",
    "# Split data into training and testing sets\n",
    "X_train, X_test, y_train, y_test = train_test_split(X_dense, y, test_size=0.2, random_state=42)\n",
    "\n",
    "# Standardize the data\n",
    "scaler = StandardScaler()\n",
    "X_train_scaled = scaler.fit_transform(X_train)\n",
    "X_test_scaled = scaler.transform(X_test)\n",
    "\n",
    "# Initialize and train the Linear SVM\n",
    "svm_classifier = LinearSVC(C=1.0, dual=False, random_state=42)\n",
    "\n",
    "start_time = time.time()\n",
    "svm_classifier.fit(X_train_scaled, y_train)\n",
    "elapsed_time = time.time() - start_time\n",
    "\n",
    "# Predictions and evaluations\n",
    "y_pred_train = svm_classifier.predict(X_train_scaled)\n",
    "y_pred_test = svm_classifier.predict(X_test_scaled)\n",
    "\n",
    "train_accuracy = accuracy_score(y_train, y_pred_train)\n",
    "test_accuracy = accuracy_score(y_test, y_pred_test)\n",
    "\n",
    "print(f\"Training Accuracy: {train_accuracy * 100:.2f}%\")\n",
    "print(f\"Testing Accuracy: {test_accuracy * 100:.2f}%\")\n",
    "print(\"Training time:\", elapsed_time, \"seconds\")\n"
   ]
  },
  {
   "cell_type": "markdown",
   "id": "8zihE5v0oQvf",
   "metadata": {
    "id": "8zihE5v0oQvf"
   },
   "source": [
    "# a9a dataset"
   ]
  },
  {
   "cell_type": "markdown",
   "id": "ffGqqvLXoS97",
   "metadata": {
    "id": "ffGqqvLXoS97"
   },
   "source": [
    "# libsvm on a9a"
   ]
  },
  {
   "cell_type": "code",
   "execution_count": 10,
   "id": "Ydrwspbmm1Do",
   "metadata": {
    "colab": {
     "base_uri": "https://localhost:8080/"
    },
    "id": "Ydrwspbmm1Do",
    "outputId": "3d6e9d17-df82-4e68-9abf-53f3b6e8934e"
   },
   "outputs": [
    {
     "name": "stdout",
     "output_type": "stream",
     "text": [
      "Training Accuracy: 86.99%\n",
      "Testing Accuracy: 84.56%\n",
      "Training time: 10.658567905426025 seconds\n"
     ]
    }
   ],
   "source": [
    "import numpy as np\n",
    "from sklearn.preprocessing import StandardScaler\n",
    "from sklearn.model_selection import train_test_split\n",
    "from sklearn.svm import SVC\n",
    "from sklearn.metrics import accuracy_score\n",
    "from sklearn.datasets import load_svmlight_file\n",
    "\n",
    "# Load the dataset from the LIBSVM format file\n",
    "X, y = load_svmlight_file('./data/a9a.t')\n",
    "\n",
    "# Convert to dense format as many scikit-learn estimators expect dense format\n",
    "X_dense = X.toarray()\n",
    "\n",
    "# Split data into training and testing sets\n",
    "X_train, X_test, y_train, y_test = train_test_split(X_dense, y, test_size=0.2, random_state=42)\n",
    "\n",
    "# Standardize the data\n",
    "scaler = StandardScaler()\n",
    "X_train_scaled = scaler.fit_transform(X_train)\n",
    "X_test_scaled = scaler.transform(X_test)\n",
    "\n",
    "# Initialize and train the SVM with RBF kernel\n",
    "svm_classifier = SVC(C=1.0, kernel='rbf', random_state=42)\n",
    "\n",
    "start_time = time.time()\n",
    "svm_classifier.fit(X_train_scaled, y_train)\n",
    "elapsed_time = time.time() - start_time  # Calculate elapsed time\n",
    "\n",
    "# Predictions and evaluations\n",
    "y_pred_train = svm_classifier.predict(X_train_scaled)\n",
    "y_pred_test = svm_classifier.predict(X_test_scaled)\n",
    "\n",
    "train_accuracy = accuracy_score(y_train, y_pred_train)\n",
    "test_accuracy = accuracy_score(y_test, y_pred_test)\n",
    "\n",
    "print(f\"Training Accuracy: {train_accuracy * 100:.2f}%\")\n",
    "print(f\"Testing Accuracy: {test_accuracy * 100:.2f}%\")\n",
    "print(\"Training time:\", elapsed_time, \"seconds\")\n"
   ]
  },
  {
   "cell_type": "markdown",
   "id": "ZlvUKXyioaTh",
   "metadata": {
    "id": "ZlvUKXyioaTh"
   },
   "source": [
    "# linear svm on a9a"
   ]
  },
  {
   "cell_type": "code",
   "execution_count": 11,
   "id": "Rqk_FJljm1Ac",
   "metadata": {
    "colab": {
     "base_uri": "https://localhost:8080/"
    },
    "id": "Rqk_FJljm1Ac",
    "outputId": "782d8051-1876-41bf-bab1-939201a6ea34"
   },
   "outputs": [
    {
     "name": "stdout",
     "output_type": "stream",
     "text": [
      "Training Accuracy: 85.42%\n",
      "Testing Accuracy: 84.77%\n",
      "Training time: 0.3708939552307129 seconds\n"
     ]
    }
   ],
   "source": [
    "import numpy as np\n",
    "from sklearn.preprocessing import StandardScaler\n",
    "from sklearn.model_selection import train_test_split\n",
    "from sklearn.svm import LinearSVC\n",
    "from sklearn.metrics import accuracy_score\n",
    "from sklearn.datasets import load_svmlight_file\n",
    "\n",
    "# Load the dataset from the LIBSVM format file\n",
    "X, y = load_svmlight_file('./data/a9a.t')\n",
    "\n",
    "# Convert to dense format as many scikit-learn estimators expect dense format\n",
    "X_dense = X.toarray()\n",
    "\n",
    "# Split data into training and testing sets\n",
    "X_train, X_test, y_train, y_test = train_test_split(X_dense, y, test_size=0.2, random_state=42)\n",
    "\n",
    "# Standardize the data\n",
    "scaler = StandardScaler()\n",
    "X_train_scaled = scaler.fit_transform(X_train)\n",
    "X_test_scaled = scaler.transform(X_test)\n",
    "\n",
    "# Initialize and train the Linear SVM\n",
    "svm_classifier = LinearSVC(C=1.0, dual=False, random_state=42)\n",
    "\n",
    "start_time = time.time()\n",
    "svm_classifier.fit(X_train_scaled, y_train)\n",
    "elapsed_time = time.time() - start_time\n",
    "\n",
    "# Predictions and evaluations\n",
    "y_pred_train = svm_classifier.predict(X_train_scaled)\n",
    "y_pred_test = svm_classifier.predict(X_test_scaled)\n",
    "\n",
    "train_accuracy = accuracy_score(y_train, y_pred_train)\n",
    "test_accuracy = accuracy_score(y_test, y_pred_test)\n",
    "\n",
    "print(f\"Training Accuracy: {train_accuracy * 100:.2f}%\")\n",
    "print(f\"Testing Accuracy: {test_accuracy * 100:.2f}%\")\n",
    "print(\"Training time:\", elapsed_time, \"seconds\")\n"
   ]
  },
  {
   "cell_type": "markdown",
   "id": "xr8-FR8Rxw9v",
   "metadata": {
    "id": "xr8-FR8Rxw9v"
   },
   "source": [
    "# sonar, rocks vs mines dataset, UCI"
   ]
  },
  {
   "cell_type": "markdown",
   "id": "t-Sz4T39yfGJ",
   "metadata": {
    "id": "t-Sz4T39yfGJ"
   },
   "source": [
    "# libsvm on sonar, rocks vs mines dataset"
   ]
  },
  {
   "cell_type": "code",
   "execution_count": 12,
   "id": "d5cRRe6Cx115",
   "metadata": {
    "colab": {
     "base_uri": "https://localhost:8080/"
    },
    "id": "d5cRRe6Cx115",
    "outputId": "663ed7d5-d18a-4ee3-e281-ae78e3ece579"
   },
   "outputs": [
    {
     "name": "stdout",
     "output_type": "stream",
     "text": [
      "Training Accuracy: 98.19%\n",
      "Testing Accuracy: 88.10%\n"
     ]
    }
   ],
   "source": [
    "import numpy as np\n",
    "import pandas as pd\n",
    "from sklearn.preprocessing import StandardScaler\n",
    "from sklearn.model_selection import train_test_split\n",
    "from sklearn.svm import SVC\n",
    "from sklearn.metrics import accuracy_score\n",
    "from sklearn.datasets import load_svmlight_file\n",
    "\n",
    "# Load the dataset from the LIBSVM format file\n",
    "# Load the dataset\n",
    "url = \"https://archive.ics.uci.edu/ml/machine-learning-databases/undocumented/connectionist-bench/sonar/sonar.all-data\"\n",
    "data = pd.read_csv(url, header=None)\n",
    "\n",
    "# The last column contains labels: 'R' for rock and 'M' for mine\n",
    "X = data.iloc[:, :-1].values\n",
    "y = data.iloc[:, -1].values\n",
    "\n",
    "# Convert class labels 'R' and 'M' to -1 and 1\n",
    "y = np.where(y == 'R', -1, 1)\n",
    "\n",
    "# Split data into training and testing sets\n",
    "X_train, X_test, y_train, y_test = train_test_split(X, y, test_size=0.2, random_state=42)\n",
    "\n",
    "# Standardize the data\n",
    "scaler = StandardScaler()\n",
    "X_train_scaled = scaler.fit_transform(X_train)\n",
    "X_test_scaled = scaler.transform(X_test)\n",
    "\n",
    "# Initialize and train the SVM with RBF kernel\n",
    "svm_classifier = SVC(C=1.0, kernel='rbf', random_state=42)\n",
    "svm_classifier.fit(X_train_scaled, y_train)\n",
    "\n",
    "# Predictions and evaluations\n",
    "y_pred_train = svm_classifier.predict(X_train_scaled)\n",
    "y_pred_test = svm_classifier.predict(X_test_scaled)\n",
    "\n",
    "train_accuracy = accuracy_score(y_train, y_pred_train)\n",
    "test_accuracy = accuracy_score(y_test, y_pred_test)\n",
    "\n",
    "print(f\"Training Accuracy: {train_accuracy * 100:.2f}%\")\n",
    "print(f\"Testing Accuracy: {test_accuracy * 100:.2f}%\")\n"
   ]
  },
  {
   "cell_type": "markdown",
   "id": "jRPPnZQkyaHi",
   "metadata": {
    "id": "jRPPnZQkyaHi"
   },
   "source": [
    "# linearSVM on sonar, rocks vs mines dataset"
   ]
  },
  {
   "cell_type": "code",
   "execution_count": 13,
   "id": "bbfe14c8",
   "metadata": {
    "colab": {
     "base_uri": "https://localhost:8080/"
    },
    "id": "bbfe14c8",
    "outputId": "1e345339-b631-43d8-f7c8-9956d2975ac3"
   },
   "outputs": [
    {
     "name": "stdout",
     "output_type": "stream",
     "text": [
      "Training Accuracy: 98.80%\n",
      "Testing Accuracy: 80.95%\n"
     ]
    }
   ],
   "source": [
    "import numpy as np\n",
    "from sklearn.preprocessing import StandardScaler\n",
    "from sklearn.model_selection import train_test_split\n",
    "from sklearn.svm import LinearSVC\n",
    "from sklearn.metrics import accuracy_score\n",
    "from sklearn.datasets import load_svmlight_file\n",
    "\n",
    "# Load the dataset from the LIBSVM format file\n",
    "url = \"https://archive.ics.uci.edu/ml/machine-learning-databases/undocumented/connectionist-bench/sonar/sonar.all-data\"\n",
    "data = pd.read_csv(url, header=None)\n",
    "\n",
    "# The last column contains labels: 'R' for rock and 'M' for mine\n",
    "X = data.iloc[:, :-1].values\n",
    "y = data.iloc[:, -1].values\n",
    "\n",
    "# Convert class labels 'R' and 'M' to -1 and 1\n",
    "y = np.where(y == 'R', -1, 1)\n",
    "\n",
    "# Split data into training and testing sets\n",
    "X_train, X_test, y_train, y_test = train_test_split(X, y, test_size=0.2, random_state=42)\n",
    "\n",
    "# Standardize the data\n",
    "scaler = StandardScaler()\n",
    "X_train_scaled = scaler.fit_transform(X_train)\n",
    "X_test_scaled = scaler.transform(X_test)\n",
    "\n",
    "# Initialize and train the Linear SVM\n",
    "svm_classifier = LinearSVC(C=1.0, dual=False, random_state=42)\n",
    "svm_classifier.fit(X_train_scaled, y_train)\n",
    "\n",
    "# Predictions and evaluations\n",
    "y_pred_train = svm_classifier.predict(X_train_scaled)\n",
    "y_pred_test = svm_classifier.predict(X_test_scaled)\n",
    "\n",
    "train_accuracy = accuracy_score(y_train, y_pred_train)\n",
    "test_accuracy = accuracy_score(y_test, y_pred_test)\n",
    "\n",
    "print(f\"Training Accuracy: {train_accuracy * 100:.2f}%\")\n",
    "print(f\"Testing Accuracy: {test_accuracy * 100:.2f}%\")\n"
   ]
  },
  {
   "cell_type": "markdown",
   "id": "1a7662cf",
   "metadata": {},
   "source": [
    "## Dhrb data"
   ]
  },
  {
   "cell_type": "markdown",
   "id": "aeab3a9e",
   "metadata": {},
   "source": [
    "## LibSVM on dhrb data"
   ]
  },
  {
   "cell_type": "code",
   "execution_count": 14,
   "id": "ec18c585",
   "metadata": {},
   "outputs": [
    {
     "name": "stdout",
     "output_type": "stream",
     "text": [
      "Training labels distribution: [39473     0  8172]\n",
      "Testing labels distribution: [9823    0 2089]\n",
      "Training Accuracy: 83.95%\n",
      "Testing Accuracy: 83.19%\n"
     ]
    }
   ],
   "source": [
    "import numpy as np\n",
    "from sklearn.preprocessing import StandardScaler\n",
    "from sklearn.model_selection import train_test_split\n",
    "from sklearn.svm import SVC\n",
    "from sklearn.metrics import accuracy_score\n",
    "from scipy.io import loadmat\n",
    "import matplotlib.pyplot as plt\n",
    "import time\n",
    "\n",
    "# Load the data\n",
    "data_path = \"./data/dhrb.mat\"\n",
    "class_path = \"./data/dhrbclass.mat\"\n",
    "data = loadmat(data_path)\n",
    "data_class = loadmat(class_path)\n",
    "\n",
    "X = data['X']\n",
    "y = data_class['y'].flatten()\n",
    "\n",
    "# Adjust labels if they include negative values\n",
    "if np.any(y < 0):\n",
    "    # Assuming binary classification with labels -1 and 1\n",
    "    y_bincount = y + 1  # Shifts -1 to 0 and 1 to 2\n",
    "else:\n",
    "    y_bincount = y\n",
    "\n",
    "# Scaling features\n",
    "scaler = StandardScaler()\n",
    "X_scaled = scaler.fit_transform(X)\n",
    "\n",
    "# Split data into training and testing sets\n",
    "X_train, X_test, y_train, y_test = train_test_split(X_scaled, y, test_size=0.2, random_state=42)\n",
    "\n",
    "# Adjusting y_train and y_test for bincount\n",
    "y_train_bincount = y_train + 1 if np.any(y_train < 0) else y_train\n",
    "y_test_bincount = y_test + 1 if np.any(y_test < 0) else y_test\n",
    "\n",
    "# Check label distribution\n",
    "print(\"Training labels distribution:\", np.bincount(y_train_bincount))\n",
    "print(\"Testing labels distribution:\", np.bincount(y_test_bincount))\n",
    "\n",
    "# Initialize and train the SVM with RBF kernel\n",
    "svm_classifier = SVC(kernel='rbf', C=1.0, gamma='scale')\n",
    "svm_classifier.fit(X_train, y_train)\n",
    "\n",
    "# Predictions and evaluations\n",
    "y_pred_train = svm_classifier.predict(X_train)\n",
    "y_pred_test = svm_classifier.predict(X_test)\n",
    "\n",
    "train_accuracy = accuracy_score(y_train, y_pred_train)\n",
    "test_accuracy = accuracy_score(y_test, y_pred_test)\n",
    "\n",
    "print(f\"Training Accuracy: {train_accuracy * 100:.2f}%\")\n",
    "print(f\"Testing Accuracy: {test_accuracy * 100:.2f}%\")\n",
    "\n",
    "# Plotting support vectors (optional, if dimensions allow)\n",
    "if X_train.shape[1] == 2:\n",
    "    plt.scatter(X_train[:, 0], X_train[:, 1], c=y_train, cmap='winter', marker='o', alpha=0.5)\n",
    "    plt.scatter(svm_classifier.support_vectors_[:, 0], svm_classifier.support_vectors_[:, 1], c='red')\n",
    "    plt.title(\"SVM Support Vectors\")\n",
    "    plt.show()\n"
   ]
  },
  {
   "cell_type": "markdown",
   "id": "f8189b4c",
   "metadata": {},
   "source": [
    "## Linear SVM on dhrb data"
   ]
  },
  {
   "cell_type": "code",
   "execution_count": 15,
   "id": "8e24328d",
   "metadata": {},
   "outputs": [
    {
     "name": "stdout",
     "output_type": "stream",
     "text": [
      "Training labels distribution: [39473     0  8172]\n",
      "Testing labels distribution: [9823    0 2089]\n",
      "Training Accuracy: 83.37%\n",
      "Testing Accuracy: 83.17%\n"
     ]
    }
   ],
   "source": [
    "import numpy as np\n",
    "from sklearn.preprocessing import StandardScaler\n",
    "from sklearn.model_selection import train_test_split\n",
    "from sklearn.svm import SVC, LinearSVC\n",
    "from sklearn.metrics import accuracy_score\n",
    "from scipy.io import loadmat\n",
    "import matplotlib.pyplot as plt\n",
    "\n",
    "# Load the data\n",
    "data_path = \"./data/dhrb.mat\"\n",
    "class_path = \"./data/dhrbclass.mat\"\n",
    "data = loadmat(data_path)\n",
    "data_class = loadmat(class_path)\n",
    "\n",
    "X = data['X']\n",
    "y = data_class['y'].flatten()\n",
    "\n",
    "# Adjust labels if they include negative values\n",
    "if np.any(y < 0):\n",
    "    # Assuming binary classification with labels -1 and 1\n",
    "    y_bincount = y + 1  # Shifts -1 to 0 and 1 to 2\n",
    "else:\n",
    "    y_bincount = y\n",
    "\n",
    "# Scaling features\n",
    "scaler = StandardScaler()\n",
    "X_scaled = scaler.fit_transform(X)\n",
    "\n",
    "# Split data into training and testing sets\n",
    "X_train, X_test, y_train, y_test = train_test_split(X_scaled, y, test_size=0.2, random_state=42)\n",
    "\n",
    "# Adjusting y_train and y_test for bincount\n",
    "y_train_bincount = y_train + 1 if np.any(y_train < 0) else y_train\n",
    "y_test_bincount = y_test + 1 if np.any(y_test < 0) else y_test\n",
    "\n",
    "# Check label distribution\n",
    "print(\"Training labels distribution:\", np.bincount(y_train_bincount))\n",
    "print(\"Testing labels distribution:\", np.bincount(y_test_bincount))\n",
    "\n",
    "# Initialize and train the SVM with RBF kernel\n",
    "svm_classifier = LinearSVC(C=1.0, dual=False)\n",
    "svm_classifier.fit(X_train, y_train)\n",
    "\n",
    "# Predictions and evaluations\n",
    "y_pred_train = svm_classifier.predict(X_train)\n",
    "y_pred_test = svm_classifier.predict(X_test)\n",
    "\n",
    "train_accuracy = accuracy_score(y_train, y_pred_train)\n",
    "test_accuracy = accuracy_score(y_test, y_pred_test)\n",
    "\n",
    "print(f\"Training Accuracy: {train_accuracy * 100:.2f}%\")\n",
    "print(f\"Testing Accuracy: {test_accuracy * 100:.2f}%\")\n",
    "\n",
    "# Plotting support vectors (optional, if dimensions allow)\n",
    "if X_train.shape[1] == 2:\n",
    "    plt.scatter(X_train[:, 0], X_train[:, 1], c=y_train, cmap='winter', marker='o', alpha=0.5)\n",
    "    plt.scatter(svm_classifier.support_vectors_[:, 0], svm_classifier.support_vectors_[:, 1], c='red')\n",
    "    plt.title(\"SVM Support Vectors\")\n",
    "    plt.show()\n"
   ]
  },
  {
   "cell_type": "markdown",
   "id": "3d5e7e80",
   "metadata": {},
   "source": [
    "## Iris dataset"
   ]
  },
  {
   "cell_type": "markdown",
   "id": "78be110b",
   "metadata": {},
   "source": [
    "## libsvm on iris dataset"
   ]
  },
  {
   "cell_type": "code",
   "execution_count": 17,
   "id": "12aab6e8",
   "metadata": {},
   "outputs": [
    {
     "name": "stdout",
     "output_type": "stream",
     "text": [
      "Training Accuracy: 96.67%\n",
      "Testing Accuracy: 100.00%\n"
     ]
    }
   ],
   "source": [
    "import numpy as np\n",
    "import pandas as pd\n",
    "from sklearn.datasets import load_iris\n",
    "from sklearn.preprocessing import StandardScaler\n",
    "from sklearn.model_selection import train_test_split\n",
    "from sklearn.svm import SVC, LinearSVC\n",
    "from sklearn.metrics import accuracy_score\n",
    "\n",
    "# Load the Iris dataset\n",
    "iris = load_iris()\n",
    "X = iris.data\n",
    "y = iris.target\n",
    "\n",
    "# Split data into training and testing sets\n",
    "X_train, X_test, y_train, y_test = train_test_split(X, y, test_size=0.2, random_state=42)\n",
    "\n",
    "# Standardize the data\n",
    "scaler = StandardScaler()\n",
    "X_train_scaled = scaler.fit_transform(X_train)\n",
    "X_test_scaled = scaler.transform(X_test)\n",
    "\n",
    "# Initialize and train the SVM with RBF kernel\n",
    "svm_classifier = SVC(C=1.0, kernel='rbf', random_state=42)\n",
    "svm_classifier.fit(X_train_scaled, y_train)\n",
    "\n",
    "# Predictions and evaluations\n",
    "y_pred_train = svm_classifier.predict(X_train_scaled)\n",
    "y_pred_test = svm_classifier.predict(X_test_scaled)\n",
    "\n",
    "train_accuracy = accuracy_score(y_train, y_pred_train)\n",
    "test_accuracy = accuracy_score(y_test, y_pred_test)\n",
    "\n",
    "print(f\"Training Accuracy: {train_accuracy * 100:.2f}%\")\n",
    "print(f\"Testing Accuracy: {test_accuracy * 100:.2f}%\")\n"
   ]
  },
  {
   "cell_type": "markdown",
   "id": "9270f45d",
   "metadata": {},
   "source": [
    "## Linear SVC on iris dataset"
   ]
  },
  {
   "cell_type": "code",
   "execution_count": 19,
   "id": "fd7f4dc4",
   "metadata": {},
   "outputs": [
    {
     "name": "stdout",
     "output_type": "stream",
     "text": [
      "Training Accuracy: 95.00%\n",
      "Testing Accuracy: 100.00%\n"
     ]
    }
   ],
   "source": [
    "import numpy as np\n",
    "import pandas as pd\n",
    "from sklearn.datasets import load_iris\n",
    "from sklearn.preprocessing import StandardScaler\n",
    "from sklearn.model_selection import train_test_split\n",
    "from sklearn.svm import SVC, LinearSVC\n",
    "from sklearn.metrics import accuracy_score\n",
    "\n",
    "# Load the Iris dataset\n",
    "iris = load_iris()\n",
    "X = iris.data\n",
    "y = iris.target\n",
    "\n",
    "# Split data into training and testing sets\n",
    "X_train, X_test, y_train, y_test = train_test_split(X, y, test_size=0.2, random_state=42)\n",
    "\n",
    "# Standardize the data\n",
    "scaler = StandardScaler()\n",
    "X_train_scaled = scaler.fit_transform(X_train)\n",
    "X_test_scaled = scaler.transform(X_test)\n",
    "\n",
    "# Initialize and train the SVM with RBF kernel\n",
    "svm_classifier = LinearSVC(C=1.0, random_state=42)\n",
    "svm_classifier.fit(X_train_scaled, y_train)\n",
    "\n",
    "# Predictions and evaluations\n",
    "y_pred_train = svm_classifier.predict(X_train_scaled)\n",
    "y_pred_test = svm_classifier.predict(X_test_scaled)\n",
    "\n",
    "train_accuracy = accuracy_score(y_train, y_pred_train)\n",
    "test_accuracy = accuracy_score(y_test, y_pred_test)\n",
    "\n",
    "print(f\"Training Accuracy: {train_accuracy * 100:.2f}%\")\n",
    "print(f\"Testing Accuracy: {test_accuracy * 100:.2f}%\")\n"
   ]
  },
  {
   "cell_type": "code",
   "execution_count": null,
   "id": "ed3417bf",
   "metadata": {},
   "outputs": [],
   "source": []
  }
 ],
 "metadata": {
  "colab": {
   "provenance": []
  },
  "kernelspec": {
   "display_name": "Python 3 (ipykernel)",
   "language": "python",
   "name": "python3"
  },
  "language_info": {
   "codemirror_mode": {
    "name": "ipython",
    "version": 3
   },
   "file_extension": ".py",
   "mimetype": "text/x-python",
   "name": "python",
   "nbconvert_exporter": "python",
   "pygments_lexer": "ipython3",
   "version": "3.7.16"
  }
 },
 "nbformat": 4,
 "nbformat_minor": 5
}
